{
    "cells": [
        {
            "metadata": {
                "collapsed": true
            },
            "cell_type": "markdown",
            "source": "# My Jupyter Notebook on IBM Watson Studio\n"
        },
        {
            "metadata": {},
            "cell_type": "markdown",
            "source": "**Nuno Lopes**<br>\nManuf. Systems Engineer"
        },
        {
            "metadata": {},
            "cell_type": "markdown",
            "source": "*I am interested in Data science because...*"
        },
        {
            "metadata": {},
            "cell_type": "markdown",
            "source": "### My code is supposed to do the average"
        },
        {
            "metadata": {},
            "cell_type": "code",
            "source": "def avg(l):\n    aver = sum(l)/len(l)\n    return aver\n\nlist = [1,4,6,7,3,4,8,9,6,4,3,6,7,8,9]\n\navg(list)\n\nfrom statistics import mean\n\nmean(list)\nprint(\"avg is\", avg(list), \"mean is\", mean(list))",
            "execution_count": 7,
            "outputs": [
                {
                    "output_type": "stream",
                    "text": "avg is 5.666666666666667 mean is 5.666666666666667\n",
                    "name": "stdout"
                }
            ]
        },
        {
            "metadata": {},
            "cell_type": "markdown",
            "source": "This | is a | Table\n--- | --- | ---\n1 | 2 | 3\n\n1. Zas\n  1. double Zas\n    1. Triple zas\n\n>Things that happen when you google stuff\n\n___\n\nHave a Nice day!\n"
        },
        {
            "metadata": {},
            "cell_type": "code",
            "source": "",
            "execution_count": null,
            "outputs": []
        }
    ],
    "metadata": {
        "kernelspec": {
            "name": "python3",
            "display_name": "Python 3.6",
            "language": "python"
        },
        "language_info": {
            "name": "python",
            "version": "3.6.9",
            "mimetype": "text/x-python",
            "codemirror_mode": {
                "name": "ipython",
                "version": 3
            },
            "pygments_lexer": "ipython3",
            "nbconvert_exporter": "python",
            "file_extension": ".py"
        }
    },
    "nbformat": 4,
    "nbformat_minor": 1
}